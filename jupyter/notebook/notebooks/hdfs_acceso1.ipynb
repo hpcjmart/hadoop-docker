{
 "cells": [
  {
   "cell_type": "markdown",
   "id": "9927436a-080b-458c-8e9a-21f8ba8b0342",
   "metadata": {},
   "source": [
    "# Instalamos los paquetes python necesarios para conectarnos con el servidor hdfs"
   ]
  },
  {
   "cell_type": "code",
   "execution_count": null,
   "id": "c693ac8d-35e0-42b7-b417-75facd096006",
   "metadata": {},
   "outputs": [],
   "source": [
    "!pip install pyhdfs\n",
    "!pip install pyarrow"
   ]
  },
  {
   "cell_type": "markdown",
   "id": "1979d7aa-5075-463b-bad2-c5c4bc719272",
   "metadata": {},
   "source": [
    "# Importamos la libreria pyhdfs"
   ]
  },
  {
   "cell_type": "code",
   "execution_count": null,
   "id": "3c018726-7c82-4f17-afeb-8c8928c0be78",
   "metadata": {},
   "outputs": [],
   "source": [
    "import pyhdfs"
   ]
  },
  {
   "cell_type": "markdown",
   "id": "c6c31cdf-d8a4-42c3-883a-03723347fa40",
   "metadata": {},
   "source": [
    "# Conectamos con el servidor hdfs"
   ]
  },
  {
   "cell_type": "code",
   "execution_count": null,
   "id": "a2cd5e10-0ab2-481a-8c6c-f6e14362ccca",
   "metadata": {},
   "outputs": [],
   "source": [
    "hdfs = pyhdfs.HdfsClient(hosts=\"master:9870\")"
   ]
  },
  {
   "cell_type": "markdown",
   "id": "f42fc777-6ebd-4ac7-a297-2fa96ed81385",
   "metadata": {},
   "source": [
    "# Creamos un directorio /data"
   ]
  },
  {
   "cell_type": "code",
   "execution_count": null,
   "id": "6ada5934-3c54-4288-b7bc-2bc61e855362",
   "metadata": {},
   "outputs": [],
   "source": [
    "hdfs.mkdirs(\"/data\")"
   ]
  },
  {
   "cell_type": "markdown",
   "id": "5ebbc310-9451-4f50-ba3d-67b4a05d40b6",
   "metadata": {},
   "source": [
    "# Listamos el estado de los archivos y directorios del raiz de nuestro sistema de archivos hdfs"
   ]
  },
  {
   "cell_type": "code",
   "execution_count": null,
   "id": "ac619f53-6682-4307-a4ff-6319ab695e77",
   "metadata": {},
   "outputs": [],
   "source": [
    "hdfs.list_status(\"/\")"
   ]
  },
  {
   "cell_type": "markdown",
   "id": "d0db11ac-953f-4fbd-bb57-1eb660060040",
   "metadata": {},
   "source": [
    "# Leemos el directorio home de nuestro usuario"
   ]
  },
  {
   "cell_type": "code",
   "execution_count": null,
   "id": "9ae98bf3-f6a3-4b60-b541-122190faf0d5",
   "metadata": {},
   "outputs": [],
   "source": [
    "hdfs.get_home_directory()"
   ]
  },
  {
   "cell_type": "markdown",
   "id": "3f4442b3-1f8f-4115-abcc-642bb7d1335c",
   "metadata": {},
   "source": [
    "# Vemos el contenido del diretorio /"
   ]
  },
  {
   "cell_type": "code",
   "execution_count": null,
   "id": "17a37a05-28bc-43e0-b04d-ff107e870d44",
   "metadata": {},
   "outputs": [],
   "source": [
    "hdfs.listdir(\"/\")"
   ]
  },
  {
   "cell_type": "markdown",
   "id": "3ce9e277-7620-430f-8e51-0b5ed65c9e0a",
   "metadata": {},
   "source": [
    "# Copiamos un archivo de nuestro directorio local en el sistema de archivos hdfs"
   ]
  },
  {
   "cell_type": "code",
   "execution_count": null,
   "id": "a7a504e6-6636-4976-8bbb-1acf2be485fd",
   "metadata": {},
   "outputs": [],
   "source": [
    "hdfs.copy_from_local(\"../data/aire.csv\",\"/data/aire.csv\")"
   ]
  },
  {
   "cell_type": "markdown",
   "id": "0bb46d56-4eb6-43d8-9478-de56c58fff9d",
   "metadata": {},
   "source": [
    "# Vemos el contenido del diretorio /data"
   ]
  },
  {
   "cell_type": "code",
   "execution_count": null,
   "id": "8133a787-8791-4705-947b-9b590d743ff9",
   "metadata": {},
   "outputs": [],
   "source": [
    "hdfs.listdir(\"/data\")"
   ]
  },
  {
   "cell_type": "markdown",
   "id": "7c1ed603-9006-44cc-8a8e-24fdee288d47",
   "metadata": {},
   "source": [
    "# Vemos es estado del archivo que subimos unos pasos mas atras"
   ]
  },
  {
   "cell_type": "code",
   "execution_count": null,
   "id": "052138c9-f198-434f-aa40-f11bcbbdbdd7",
   "metadata": {},
   "outputs": [],
   "source": [
    "hdfs.get_file_status(\"/data/aire.csv\")"
   ]
  },
  {
   "cell_type": "markdown",
   "id": "6c5530bd-7bd5-4096-9a77-b6b5cb01a445",
   "metadata": {},
   "source": [
    "# Importamos la libreria pandas como pd"
   ]
  },
  {
   "cell_type": "code",
   "execution_count": null,
   "id": "8ffececd-6fc4-43b6-aaa4-331d7e2993fc",
   "metadata": {},
   "outputs": [],
   "source": [
    "import pandas as pd"
   ]
  },
  {
   "cell_type": "markdown",
   "id": "385bf8f2-2209-4ebe-8704-1a7dd7fcef93",
   "metadata": {},
   "source": [
    "# Leemos el archivo aire.csv de nuestro sistema de archivos hdfs en un data frame"
   ]
  },
  {
   "cell_type": "code",
   "execution_count": null,
   "id": "ad594c9b-db0b-4223-bcf4-842a9390844b",
   "metadata": {},
   "outputs": [],
   "source": [
    "df=pd.read_csv(hdfs.open(\"/data/aire.csv\"))"
   ]
  },
  {
   "cell_type": "markdown",
   "id": "b8f3a05b-3ec4-4140-97fc-d91b4ea0acd0",
   "metadata": {},
   "source": [
    "# Imprimimos el contenido de nuestro data frame"
   ]
  },
  {
   "cell_type": "code",
   "execution_count": null,
   "id": "1dbe4936-9869-422e-bf75-5ba746f273ed",
   "metadata": {},
   "outputs": [],
   "source": [
    "df"
   ]
  },
  {
   "cell_type": "code",
   "execution_count": null,
   "id": "530ae7c4-1c69-44bc-b120-dee16580e500",
   "metadata": {},
   "outputs": [],
   "source": []
  }
 ],
 "metadata": {
  "kernelspec": {
   "display_name": "Python 3 (ipykernel)",
   "language": "python",
   "name": "python3"
  },
  "language_info": {
   "codemirror_mode": {
    "name": "ipython",
    "version": 3
   },
   "file_extension": ".py",
   "mimetype": "text/x-python",
   "name": "python",
   "nbconvert_exporter": "python",
   "pygments_lexer": "ipython3",
   "version": "3.11.0rc1"
  }
 },
 "nbformat": 4,
 "nbformat_minor": 5
}
