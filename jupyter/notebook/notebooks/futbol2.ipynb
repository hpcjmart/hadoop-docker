{
 "cells": [
  {
   "cell_type": "code",
   "execution_count": null,
   "id": "ac17b3c0-36b3-4832-90a1-989436c9c817",
   "metadata": {},
   "outputs": [],
   "source": [
    "from hdfs import InsecureClient\n",
    "import pandas as pd\n",
    "import matplotlib.pyplot as plt"
   ]
  },
  {
   "cell_type": "code",
   "execution_count": null,
   "id": "d899ceb5-62e0-41fa-aa7d-f6724e558666",
   "metadata": {},
   "outputs": [],
   "source": [
    "web_hdfs_interface = InsecureClient('http://master:9870')"
   ]
  },
  {
   "cell_type": "code",
   "execution_count": null,
   "id": "7d234845-31fe-4630-aa9d-36601b6c1148",
   "metadata": {},
   "outputs": [],
   "source": [
    "with web_hdfs_interface.read('/data/results.csv') as reader:\n",
    "  results = pd.read_csv(reader,parse_dates=['date'])"
   ]
  },
  {
   "cell_type": "code",
   "execution_count": null,
   "id": "29e83ef1-ebe4-4c5c-bf99-4cf6c602c7c0",
   "metadata": {},
   "outputs": [],
   "source": [
    "results.head()"
   ]
  },
  {
   "cell_type": "code",
   "execution_count": null,
   "id": "26bd49ba-b477-487b-9ea3-70eead012a3f",
   "metadata": {},
   "outputs": [],
   "source": [
    "results.dtypes"
   ]
  },
  {
   "cell_type": "code",
   "execution_count": null,
   "id": "828c449d-a649-4c6e-b806-f5ca4e9959eb",
   "metadata": {},
   "outputs": [],
   "source": [
    "results.shape"
   ]
  },
  {
   "cell_type": "code",
   "execution_count": null,
   "id": "ac8efb60-69b3-400b-bf53-cd09dc5f563a",
   "metadata": {},
   "outputs": [],
   "source": [
    "results.tournament.value_counts()"
   ]
  },
  {
   "cell_type": "code",
   "execution_count": null,
   "id": "64b39c25-65c1-4fb6-a619-8a5bd5ec9dd1",
   "metadata": {},
   "outputs": [],
   "source": [
    "oficiales=results.loc[results['tournament']!='Friendly']"
   ]
  },
  {
   "cell_type": "code",
   "execution_count": null,
   "id": "9a12a8b0-e81c-403d-9b9a-b2a6d1f90963",
   "metadata": {},
   "outputs": [],
   "source": [
    "oficiales"
   ]
  },
  {
   "cell_type": "code",
   "execution_count": null,
   "id": "558b1305-fc10-4db3-be43-afbc43e058a8",
   "metadata": {},
   "outputs": [],
   "source": [
    "oficiales_82 = oficiales.loc[results['date'].dt.year == 1982]\n",
    "mundial_82 = oficiales_82.loc[oficiales_82['tournament']==\"FIFA World Cup\"]\n",
    "oficiales_82 = oficiales_82.reset_index()\n",
    "mundial_82 = mundial_82.reset_index()\n",
    "del mundial_82['index']\n",
    "mundial_82"
   ]
  },
  {
   "cell_type": "code",
   "execution_count": null,
   "id": "2f688570-1c72-43fc-9a9d-79abd7d3c616",
   "metadata": {},
   "outputs": [],
   "source": [
    "temp1 = mundial_82.loc[:,['home_team']]\n",
    "temp1.rename(columns={'home_team':'label'},inplace=True)\n",
    "temp2 = mundial_82.loc[:,['away_team']]\n",
    "temp2.rename(columns={'away_team':'label'},inplace=True)"
   ]
  },
  {
   "cell_type": "code",
   "execution_count": null,
   "id": "d9088554-5506-425e-9479-71247ba54dba",
   "metadata": {},
   "outputs": [],
   "source": [
    "temp1"
   ]
  },
  {
   "cell_type": "code",
   "execution_count": null,
   "id": "ed33708a-9b4f-4b92-b2dc-86eb374f6e3d",
   "metadata": {},
   "outputs": [],
   "source": [
    "temp2"
   ]
  },
  {
   "cell_type": "code",
   "execution_count": null,
   "id": "7545c848-b810-4c2e-b1a0-4f44037c3ddb",
   "metadata": {},
   "outputs": [],
   "source": [
    "paises_82=pd.concat([temp1,temp2])"
   ]
  },
  {
   "cell_type": "code",
   "execution_count": null,
   "id": "1414cb59-fd1e-4c06-8e6e-654ae9504081",
   "metadata": {},
   "outputs": [],
   "source": [
    "paises_82"
   ]
  },
  {
   "cell_type": "code",
   "execution_count": null,
   "id": "edb071ce-1257-46f7-91c9-8665773d7bff",
   "metadata": {},
   "outputs": [],
   "source": [
    "paises_82 = paises_82['label'].groupby(paises_82['label']).agg(['count'])"
   ]
  },
  {
   "cell_type": "code",
   "execution_count": null,
   "id": "f3fad7b9-ee8c-4002-8cd3-e6308dba7599",
   "metadata": {},
   "outputs": [],
   "source": [
    "paises_82"
   ]
  },
  {
   "cell_type": "code",
   "execution_count": null,
   "id": "bcaefe14-683a-4d38-b7bf-35df37e8544f",
   "metadata": {},
   "outputs": [],
   "source": [
    "paises_82.reset_index(inplace=True)"
   ]
  },
  {
   "cell_type": "code",
   "execution_count": null,
   "id": "54370eea-f757-4f35-aaf5-02dfa352e4f8",
   "metadata": {},
   "outputs": [],
   "source": [
    "paises_82"
   ]
  },
  {
   "cell_type": "code",
   "execution_count": null,
   "id": "bbb7afdf-9ad7-46dd-a7e4-929a1461c6f2",
   "metadata": {},
   "outputs": [],
   "source": [
    "paises_82.head()"
   ]
  },
  {
   "cell_type": "code",
   "execution_count": null,
   "id": "714a8135-565d-49fc-9c4b-dd9bc20e26f3",
   "metadata": {},
   "outputs": [],
   "source": [
    "paises_82=paises_82.sort_values(\"count\",ascending=False)"
   ]
  },
  {
   "cell_type": "code",
   "execution_count": null,
   "id": "c5b2ad00-0be8-449c-8d90-244fb7c66df2",
   "metadata": {},
   "outputs": [],
   "source": [
    "paises_82"
   ]
  },
  {
   "cell_type": "code",
   "execution_count": null,
   "id": "3667cab8-83c7-4fb1-aba4-205e915f5c82",
   "metadata": {},
   "outputs": [],
   "source": [
    "paises_82.plot(kind = 'bar',x = 'label', y = 'count')"
   ]
  },
  {
   "cell_type": "code",
   "execution_count": null,
   "id": "0b931868-eaf1-490b-a204-53a564797a88",
   "metadata": {},
   "outputs": [],
   "source": [
    "paises_82.head(10)"
   ]
  },
  {
   "cell_type": "code",
   "execution_count": null,
   "id": "fa637fed-e7ef-49f4-9c48-4d9dcff80bd7",
   "metadata": {},
   "outputs": [],
   "source": [
    "total=paises_82.head(10)"
   ]
  },
  {
   "cell_type": "code",
   "execution_count": null,
   "id": "aac87dab-fe11-4fb6-bcb3-0b9d396da0f7",
   "metadata": {},
   "outputs": [],
   "source": [
    "total.plot(kind = 'bar',x = 'label', y = 'count')"
   ]
  }
 ],
 "metadata": {
  "kernelspec": {
   "display_name": "Python 3 (ipykernel)",
   "language": "python",
   "name": "python3"
  },
  "language_info": {
   "codemirror_mode": {
    "name": "ipython",
    "version": 3
   },
   "file_extension": ".py",
   "mimetype": "text/x-python",
   "name": "python",
   "nbconvert_exporter": "python",
   "pygments_lexer": "ipython3",
   "version": "3.11.0rc1"
  }
 },
 "nbformat": 4,
 "nbformat_minor": 5
}
