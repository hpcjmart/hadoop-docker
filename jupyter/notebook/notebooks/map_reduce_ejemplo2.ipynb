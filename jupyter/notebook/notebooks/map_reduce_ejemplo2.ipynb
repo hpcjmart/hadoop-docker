{
 "cells": [
  {
   "cell_type": "markdown",
   "id": "ad2f738f-d5bc-4af1-88e6-93bfad735b83",
   "metadata": {},
   "source": [
    "# MapReduce"
   ]
  },
  {
   "cell_type": "markdown",
   "id": "57f12801-28d5-4db7-bd3a-4556ef36a418",
   "metadata": {},
   "source": [
    "La técnica de programación MapReduce fue diseñada para analizar conjuntos de datos masivos en un clúster. En este cuaderno de Jupyter, tendrá una idea de cómo funciona Hadoop MapReduce; sin embargo, este portátil se ejecutará localmente en lugar de en un clúster.\r\n",
    "\r\n",
    "La mayor diferencia entre Hadoop y Spark es que Spark intenta realizar tantos cálculos como sea posible en la memoria, lo que evita mover datos de un lado a otro a través de un clúster. Hadoop escribe cálculos intermedios en el disco, lo que puede resultar menos eficiente. Hadoop es una tecnología más antigua que Spark y una de las tecnologías fundamentales de big data.\r\n",
    "\r\n",
    "Si hace clic en el logotipo del cuaderno de Jupyter en la parte superior del espacio de trabajo, accederá al directorio del espacio de trabajo. Allí verás un archivo llamado \"songplays.txt\". Este es un archivo de texto donde cada línea representa una canción que se reprodujo en la aplicación Sparkify. El código MapReduce contará cuántas veces se reprodujo cada canción. En otras palabras, el código cuenta cuántas veces aparece el título de la canción en la lista."
   ]
  },
  {
   "cell_type": "markdown",
   "id": "98ef0a43-a257-40d7-9643-6d97867591c9",
   "metadata": {},
   "source": [
    "# MapReduce versus Hadoop MapReduce"
   ]
  },
  {
   "cell_type": "markdown",
   "id": "13834a31-dd13-4e7e-88f6-c46070515cac",
   "metadata": {},
   "source": [
    "¡No te dejes confundir por la terminología! MapReduce es una técnica de programación. Hadoop MapReduce es una implementación específica de la técnica de programación.\r\n",
    "\r\n",
    "Parte de la sintaxis parecerá un poco extraña, así que asegúrese de leer la explicación y los comentarios de cada sección. Aprenderá más sobre la sintaxis en lecciones posteriores.\r\n",
    "\r\n",
    "Ejecute cada una de las celdas de código siguientes para ver el resultado.\r\n"
   ]
  },
  {
   "cell_type": "code",
   "execution_count": 1,
   "id": "c5efd001-61de-400d-8aac-baeec98eddaf",
   "metadata": {},
   "outputs": [
    {
     "name": "stdout",
     "output_type": "stream",
     "text": [
      "Defaulting to user installation because normal site-packages is not writeable\n",
      "Collecting mrjob\n",
      "  Downloading mrjob-0.7.4-py2.py3-none-any.whl.metadata (7.3 kB)\n",
      "Requirement already satisfied: PyYAML>=3.10 in /usr/local/lib/python3.11/dist-packages (from mrjob) (6.0.1)\n",
      "Downloading mrjob-0.7.4-py2.py3-none-any.whl (439 kB)\n",
      "\u001b[2K   \u001b[90m━━━━━━━━━━━━━━━━━━━━━━━━━━━━━━━━━━━━━━━━\u001b[0m \u001b[32m439.6/439.6 kB\u001b[0m \u001b[31m3.7 MB/s\u001b[0m eta \u001b[36m0:00:00\u001b[0m00:01\u001b[0m00:01\u001b[0m\n",
      "\u001b[?25hInstalling collected packages: mrjob\n",
      "\u001b[33m  WARNING: The scripts mrjob, mrjob-3 and mrjob-3.7 are installed in '/home/jupyter/.local/bin' which is not on PATH.\n",
      "  Consider adding this directory to PATH or, if you prefer to suppress this warning, use --no-warn-script-location.\u001b[0m\u001b[33m\n",
      "\u001b[0mSuccessfully installed mrjob-0.7.4\n"
     ]
    }
   ],
   "source": [
    "# Install mrjob library. This package is for running MapReduce jobs with Python\n",
    "# In Jupyter notebooks, \"!\" runs terminal commands from inside notebooks \n",
    "\n",
    "!pip install mrjob"
   ]
  },
  {
   "cell_type": "code",
   "execution_count": 2,
   "id": "cc1aefc1-9e49-4b70-b0c4-31a102defb60",
   "metadata": {},
   "outputs": [
    {
     "name": "stdout",
     "output_type": "stream",
     "text": [
      "Writing wordcount.py\n"
     ]
    }
   ],
   "source": [
    "%%file wordcount.py\n",
    "# %%file is an Ipython magic function that saves the code cell as a file\n",
    "\n",
    "from mrjob.job import MRJob # import the mrjob library\n",
    "\n",
    "class MRSongCount(MRJob):\n",
    "    \n",
    "    # the map step: each line in the txt file is read as a key, value pair\n",
    "    # in this case, each line in the txt file only contains a value but no key\n",
    "    # _ means that in this case, there is no key for each line\n",
    "    def mapper(self, _, song):\n",
    "        # output each line as a tuple of (song_names, 1) \n",
    "        yield (song, 1)\n",
    "\n",
    "    # the reduce step: combine all tuples with the same key\n",
    "    # in this case, the key is the song name\n",
    "    # then sum all the values of the tuple, which will give the total song plays\n",
    "    def reducer(self, key, values):\n",
    "        yield (key, sum(values))\n",
    "        \n",
    "if __name__ == \"__main__\":\n",
    "    MRSongCount.run()"
   ]
  },
  {
   "cell_type": "markdown",
   "id": "828c8b8d-5201-428f-ab10-11b189a20c63",
   "metadata": {},
   "source": [
    "Descarga el conjunto de datos"
   ]
  },
  {
   "cell_type": "code",
   "execution_count": 5,
   "id": "b7856d73-a001-44a9-ad97-0be4b8ec2453",
   "metadata": {},
   "outputs": [
    {
     "name": "stdout",
     "output_type": "stream",
     "text": [
      "Get:1 http://jp.archive.ubuntu.com/ubuntu jammy InRelease [270 kB]\n",
      "Get:2 http://security.ubuntu.com/ubuntu jammy-security InRelease [110 kB]\n",
      "Get:3 https://developer.download.nvidia.com/compute/cuda/repos/ubuntu2204/x86_64  InRelease [1581 B]\n",
      "Get:4 https://developer.download.nvidia.com/compute/cuda/repos/ubuntu2204/x86_64  Packages [713 kB]\n",
      "Get:5 http://security.ubuntu.com/ubuntu jammy-security/main amd64 Packages [1517 kB]\n",
      "Get:6 http://jp.archive.ubuntu.com/ubuntu jammy-updates InRelease [119 kB]    \n",
      "Get:7 http://jp.archive.ubuntu.com/ubuntu jammy-backports InRelease [109 kB]   \n",
      "Get:8 http://jp.archive.ubuntu.com/ubuntu jammy/main amd64 Packages [1792 kB]\n",
      "Get:9 http://security.ubuntu.com/ubuntu jammy-security/restricted amd64 Packages [1889 kB]\n",
      "Get:10 http://security.ubuntu.com/ubuntu jammy-security/universe amd64 Packages [1074 kB]\n",
      "Get:11 http://jp.archive.ubuntu.com/ubuntu jammy/universe amd64 Packages [17.5 MB]\n",
      "Get:12 http://security.ubuntu.com/ubuntu jammy-security/multiverse amd64 Packages [44.6 kB]\n",
      "Get:13 http://jp.archive.ubuntu.com/ubuntu jammy/restricted amd64 Packages [164 kB]\n",
      "Get:14 http://jp.archive.ubuntu.com/ubuntu jammy/multiverse amd64 Packages [266 kB]\n",
      "Get:15 http://jp.archive.ubuntu.com/ubuntu jammy-updates/main amd64 Packages [1796 kB]\n",
      "Get:16 http://jp.archive.ubuntu.com/ubuntu jammy-updates/universe amd64 Packages [1346 kB]\n",
      "Get:17 http://jp.archive.ubuntu.com/ubuntu jammy-updates/multiverse amd64 Packages [50.4 kB]\n",
      "Get:18 http://jp.archive.ubuntu.com/ubuntu jammy-updates/restricted amd64 Packages [1927 kB]\n",
      "Get:19 http://jp.archive.ubuntu.com/ubuntu jammy-backports/main amd64 Packages [50.4 kB]\n",
      "Get:20 http://jp.archive.ubuntu.com/ubuntu jammy-backports/universe amd64 Packages [28.1 kB]\n",
      "Fetched 30.7 MB in 2s (12.7 MB/s)                            \n",
      "Reading package lists... Done\n"
     ]
    }
   ],
   "source": [
    "!sudo apt-get update"
   ]
  },
  {
   "cell_type": "code",
   "execution_count": 6,
   "id": "b64a369b-9f0a-4df1-8094-b4431718414b",
   "metadata": {},
   "outputs": [
    {
     "name": "stdout",
     "output_type": "stream",
     "text": [
      "Reading package lists... Done\n",
      "Building dependency tree... Done\n",
      "Reading state information... Done\n",
      "The following NEW packages will be installed:\n",
      "  wget\n",
      "0 upgraded, 1 newly installed, 0 to remove and 59 not upgraded.\n",
      "Need to get 367 kB of archives.\n",
      "After this operation, 1008 kB of additional disk space will be used.\n",
      "Get:1 http://jp.archive.ubuntu.com/ubuntu jammy/main amd64 wget amd64 1.21.2-2ubuntu1 [367 kB]\n",
      "Fetched 367 kB in 0s (1154 kB/s)m\u001b[33m\n",
      "debconf: delaying package configuration, since apt-utils is not installed\n",
      "\n",
      "\u001b7\u001b[0;23r\u001b8\u001b[1ASelecting previously unselected package wget.\n",
      "(Reading database ... 35495 files and directories currently installed.)\n",
      "Preparing to unpack .../wget_1.21.2-2ubuntu1_amd64.deb ...\n",
      "\u001b7\u001b[24;0f\u001b[42m\u001b[30mProgress: [  0%]\u001b[49m\u001b[39m [..........................................................] \u001b8\u001b7\u001b[24;0f\u001b[42m\u001b[30mProgress: [ 20%]\u001b[49m\u001b[39m [###########...............................................] \u001b8Unpacking wget (1.21.2-2ubuntu1) ...\n",
      "\u001b7\u001b[24;0f\u001b[42m\u001b[30mProgress: [ 40%]\u001b[49m\u001b[39m [#######################...................................] \u001b8Setting up wget (1.21.2-2ubuntu1) ...\n",
      "\u001b7\u001b[24;0f\u001b[42m\u001b[30mProgress: [ 60%]\u001b[49m\u001b[39m [##################################........................] \u001b8\u001b7\u001b[24;0f\u001b[42m\u001b[30mProgress: [ 80%]\u001b[49m\u001b[39m [##############################################............] \u001b8\n",
      "\u001b7\u001b[0;24r\u001b8\u001b[1A\u001b[J"
     ]
    }
   ],
   "source": [
    "!sudo apt install wget"
   ]
  },
  {
   "cell_type": "code",
   "execution_count": 7,
   "id": "f0c662b7-5f68-4d0b-b35b-6775ea393c61",
   "metadata": {},
   "outputs": [
    {
     "name": "stdout",
     "output_type": "stream",
     "text": [
      "--2024-03-01 13:27:06--  https://raw.githubusercontent.com/ranamahmud/Data-Scientist-Nanodegree/master/songplays.txt\n",
      "Resolving raw.githubusercontent.com (raw.githubusercontent.com)... 185.199.108.133, 185.199.109.133, 185.199.110.133, ...\n",
      "Connecting to raw.githubusercontent.com (raw.githubusercontent.com)|185.199.108.133|:443... connected.\n",
      "HTTP request sent, awaiting response... 200 OK\n",
      "Length: 34979 (34K) [text/plain]\n",
      "Saving to: ‘songplays.txt’\n",
      "\n",
      "songplays.txt       100%[===================>]  34.16K  --.-KB/s    in 0.01s   \n",
      "\n",
      "2024-03-01 13:27:07 (2.88 MB/s) - ‘songplays.txt’ saved [34979/34979]\n",
      "\n"
     ]
    }
   ],
   "source": [
    "!wget https://raw.githubusercontent.com/ranamahmud/Data-Scientist-Nanodegree/master/songplays.txt"
   ]
  },
  {
   "cell_type": "markdown",
   "id": "1f0eab0a-b2b8-4d03-83c5-f213a8466d6f",
   "metadata": {},
   "source": [
    "Ejecute el programa"
   ]
  },
  {
   "cell_type": "code",
   "execution_count": 8,
   "id": "bb0fb861-ba5c-411f-af1e-1d18ce7c842e",
   "metadata": {},
   "outputs": [
    {
     "name": "stdout",
     "output_type": "stream",
     "text": [
      "No configs found; falling back on auto-configuration\n",
      "No configs specified for inline runner\n",
      "Creating temp directory /tmp/wordcount.jupyter.20240301.132711.055485\n",
      "Running step 1 of 1...\n",
      "job output is in /tmp/wordcount.jupyter.20240301.132711.055485/output\n",
      "Streaming final output from /tmp/wordcount.jupyter.20240301.132711.055485/output...\n",
      "\"Deep Dreams\"\t1131\n",
      "\"Broken Networks\"\t510\n",
      "\"Data House Rock\"\t828\n",
      "Removing temp directory /tmp/wordcount.jupyter.20240301.132711.055485...\n"
     ]
    }
   ],
   "source": [
    "! python wordcount.py songplays.txt"
   ]
  },
  {
   "cell_type": "markdown",
   "id": "809e0b29-8489-44e8-b3d7-3faea9d79e85",
   "metadata": {},
   "source": [
    "# Resumen de lo que ha pasado"
   ]
  },
  {
   "cell_type": "markdown",
   "id": "813fc685-0e6e-4fe8-b656-9f1353b53f3e",
   "metadata": {},
   "source": [
    "Hay una lista de canciones en songplays.txt similar a la siguiente:\r\n",
    "\r\n",
    "Deep Dreams Data House Rock Deep Dreams Data House Rock Redes rotas Data House Rock etc.....\r\n",
    "\r\n",
    "Durante el paso del mapa, el código lee el archivo de texto una línea a la vez. Los pasos del mapa generan un conjunto de tuplas que se ven así:"
   ]
  },
  {
   "cell_type": "markdown",
   "id": "ca5191b8-af82-4bd9-becb-94cb22c8e8c7",
   "metadata": {},
   "source": [
    "(Deep Dreams, 1)\n",
    "\n",
    "(Data House Rock, 1)\n",
    "\n",
    "(Deep Dreams, 1)\n",
    "\n",
    "(Data House Rock, 1)\n",
    "\n",
    "(Broken Networks, 1)\n",
    "\n",
    "(Data House Rock, 1)\n",
    "\n",
    "etc....."
   ]
  },
  {
   "cell_type": "markdown",
   "id": "3d82a572-44e0-46de-892b-8faf505b78ad",
   "metadata": {},
   "source": [
    "Finalmente, el paso de reducción combina todos los valores por claves y suma los valores:"
   ]
  },
  {
   "cell_type": "markdown",
   "id": "1f9a09c2-6146-420d-916a-be462c362590",
   "metadata": {},
   "source": [
    "(Deep Dreams, [1, 1, 1, 1, 1, 1, ... ])\n",
    "\n",
    "(Data House Rock, [1, 1, 1, 1, 1, 1, 1, 1, 1, 1, 1, ...])\n",
    "\n",
    "(Broken Networks, [1, 1, 1, ...]"
   ]
  },
  {
   "cell_type": "markdown",
   "id": "48f04603-4235-46d3-a52b-4deb4fbb6443",
   "metadata": {},
   "source": [
    "Tenemos la salida:"
   ]
  },
  {
   "cell_type": "markdown",
   "id": "84e362cc-347d-4bdf-b93b-d3dbe0e54e36",
   "metadata": {},
   "source": [
    "\"Deep Dreams\"\t1131\n",
    "\n",
    "\"Broken Networks\"\t510\n",
    "\n",
    "\"Data House Rock\"\t828"
   ]
  }
 ],
 "metadata": {
  "kernelspec": {
   "display_name": "Python 3 (ipykernel)",
   "language": "python",
   "name": "python3"
  },
  "language_info": {
   "codemirror_mode": {
    "name": "ipython",
    "version": 3
   },
   "file_extension": ".py",
   "mimetype": "text/x-python",
   "name": "python",
   "nbconvert_exporter": "python",
   "pygments_lexer": "ipython3",
   "version": "3.11.0rc1"
  }
 },
 "nbformat": 4,
 "nbformat_minor": 5
}
