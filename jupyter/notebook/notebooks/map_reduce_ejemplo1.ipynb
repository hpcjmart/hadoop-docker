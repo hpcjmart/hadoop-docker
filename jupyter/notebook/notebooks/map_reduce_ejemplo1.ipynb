{
 "cells": [
  {
   "cell_type": "code",
   "execution_count": 1,
   "id": "43518159-0fc4-45bc-ba22-4eeec509b03c",
   "metadata": {},
   "outputs": [
    {
     "name": "stdout",
     "output_type": "stream",
     "text": [
      "Found 2 items\n",
      "drwxr-xr-x   - jupyter supergroup          0 2024-03-01 13:12 /data\n",
      "drwxrwx---   - jupyter supergroup          0 2024-03-01 12:46 /tmp\n"
     ]
    }
   ],
   "source": [
    "!hadoop fs -ls /"
   ]
  },
  {
   "cell_type": "code",
   "execution_count": 2,
   "id": "9719cabe-d3c7-49b5-adaf-514604bed0be",
   "metadata": {},
   "outputs": [
    {
     "name": "stdout",
     "output_type": "stream",
     "text": [
      "Found 7 items\n",
      "-rw-r--r--   4 jupyter supergroup      91830 2024-03-01 13:08 /data/1000-CC-Records.csv\n",
      "-rw-r--r--   4 jupyter supergroup   47584097 2024-03-01 13:09 /data/500000-CC-Records.csv\n",
      "-rw-r--r--   4 jupyter supergroup  475794643 2024-03-01 13:10 /data/5m-CC-Records.csv\n",
      "-rw-r--r--   4 jupyter supergroup    1884685 2024-03-01 13:05 /data/aire.csv\n",
      "-rw-r--r--   4 jupyter supergroup    2983056 2024-03-01 13:12 /data/goalscorers.csv\n",
      "-rw-r--r--   4 jupyter supergroup    3407313 2024-03-01 13:12 /data/results.csv\n",
      "-rw-r--r--   4 jupyter supergroup      24483 2024-03-01 13:12 /data/shootouts.csv\n"
     ]
    }
   ],
   "source": [
    "!hadoop fs -ls /data"
   ]
  },
  {
   "cell_type": "code",
   "execution_count": 3,
   "id": "bdc2ecc6-cc4c-4601-8d44-6eb72da6933a",
   "metadata": {},
   "outputs": [
    {
     "name": "stdout",
     "output_type": "stream",
     "text": [
      "rm: `/salida': No such file or directory\n"
     ]
    }
   ],
   "source": [
    "!hadoop fs -rm -r /salida"
   ]
  },
  {
   "cell_type": "code",
   "execution_count": 4,
   "id": "acc5edc9-db9a-41f2-9aa4-a088ab8df18f",
   "metadata": {},
   "outputs": [
    {
     "name": "stdout",
     "output_type": "stream",
     "text": [
      "rm: `/user': No such file or directory\n"
     ]
    }
   ],
   "source": [
    "!hadoop fs -rm -r /user"
   ]
  },
  {
   "cell_type": "code",
   "execution_count": 5,
   "id": "83a06532-7ea1-4355-9293-8caccbfa06f6",
   "metadata": {},
   "outputs": [
    {
     "name": "stdout",
     "output_type": "stream",
     "text": [
      "mkdir: `/data': File exists\n"
     ]
    }
   ],
   "source": [
    "!hadoop fs -mkdir /data"
   ]
  },
  {
   "cell_type": "code",
   "execution_count": 6,
   "id": "07f9db87-4780-4548-8979-fa963371011c",
   "metadata": {},
   "outputs": [
    {
     "name": "stdout",
     "output_type": "stream",
     "text": [
      "Data-Preprocessing.ipynb  hdfs_acceso1.ipynb  hive_2.ipynb\n",
      "futbol1.ipynb\t\t  hdfs_acceso2.ipynb  map_reduce_ejemplo1.ipynb\n",
      "futbol2.ipynb\t\t  hdfs_prueba.ipynb   map_reduce_ejemplo2.ipynb\n",
      "futbol3.ipynb\t\t  hive_1.ipynb\n"
     ]
    }
   ],
   "source": [
    "!ls"
   ]
  },
  {
   "cell_type": "code",
   "execution_count": 9,
   "id": "d29d4991-882d-4bd6-b569-7926f4a87f40",
   "metadata": {},
   "outputs": [],
   "source": [
    "!hadoop fs -put ../txt/purchases.txt /data/"
   ]
  },
  {
   "cell_type": "code",
   "execution_count": 11,
   "id": "78fe5deb-3c01-4d4f-8af1-6306b71c4e8d",
   "metadata": {},
   "outputs": [
    {
     "name": "stdout",
     "output_type": "stream",
     "text": [
      "Found 8 items\n",
      "-rw-r--r--   4 jupyter supergroup      91830 2024-03-01 13:08 /data/1000-CC-Records.csv\n",
      "-rw-r--r--   4 jupyter supergroup   47584097 2024-03-01 13:09 /data/500000-CC-Records.csv\n",
      "-rw-r--r--   4 jupyter supergroup  475794643 2024-03-01 13:10 /data/5m-CC-Records.csv\n",
      "-rw-r--r--   4 jupyter supergroup    1884685 2024-03-01 13:05 /data/aire.csv\n",
      "-rw-r--r--   4 jupyter supergroup    2983056 2024-03-01 13:12 /data/goalscorers.csv\n",
      "-rw-r--r--   4 jupyter supergroup  211312924 2024-03-01 13:22 /data/purchases.txt\n",
      "-rw-r--r--   4 jupyter supergroup    3407313 2024-03-01 13:12 /data/results.csv\n",
      "-rw-r--r--   4 jupyter supergroup      24483 2024-03-01 13:12 /data/shootouts.csv\n"
     ]
    }
   ],
   "source": [
    "!hadoop fs -ls /data/"
   ]
  },
  {
   "cell_type": "code",
   "execution_count": 12,
   "id": "c3008180-3e6c-4f43-a51e-0e1c3b6267e4",
   "metadata": {},
   "outputs": [
    {
     "name": "stdout",
     "output_type": "stream",
     "text": [
      "2024-03-01 13:22:46,404 INFO client.DefaultNoHARMFailoverProxyProvider: Connecting to ResourceManager at master/172.28.1.2:8032\n",
      "2024-03-01 13:22:46,878 WARN mapreduce.JobResourceUploader: Hadoop command-line option parsing not performed. Implement the Tool interface and execute your application with ToolRunner to remedy this.\n",
      "2024-03-01 13:22:46,900 INFO mapreduce.JobResourceUploader: Disabling Erasure Coding for path: /tmp/hadoop-yarn/staging/jupyter/.staging/job_1709297179622_0001\n",
      "2024-03-01 13:22:47,128 INFO input.FileInputFormat: Total input files to process : 1\n",
      "2024-03-01 13:22:47,211 INFO mapreduce.JobSubmitter: number of splits:2\n",
      "2024-03-01 13:22:47,365 INFO mapreduce.JobSubmitter: Submitting tokens for job: job_1709297179622_0001\n",
      "2024-03-01 13:22:47,365 INFO mapreduce.JobSubmitter: Executing with tokens: []\n",
      "2024-03-01 13:22:47,505 INFO conf.Configuration: resource-types.xml not found\n",
      "2024-03-01 13:22:47,505 INFO resource.ResourceUtils: Unable to find 'resource-types.xml'.\n",
      "2024-03-01 13:22:47,977 INFO impl.YarnClientImpl: Submitted application application_1709297179622_0001\n",
      "2024-03-01 13:22:48,033 INFO mapreduce.Job: The url to track the job: http://master:8088/proxy/application_1709297179622_0001/\n",
      "2024-03-01 13:22:48,033 INFO mapreduce.Job: Running job: job_1709297179622_0001\n",
      "2024-03-01 13:22:54,116 INFO mapreduce.Job: Job job_1709297179622_0001 running in uber mode : false\n",
      "2024-03-01 13:22:54,117 INFO mapreduce.Job:  map 0% reduce 0%\n",
      "2024-03-01 13:23:07,222 INFO mapreduce.Job:  map 50% reduce 0%\n",
      "2024-03-01 13:23:10,240 INFO mapreduce.Job:  map 80% reduce 0%\n",
      "2024-03-01 13:23:13,254 INFO mapreduce.Job:  map 100% reduce 0%\n",
      "2024-03-01 13:23:14,260 INFO mapreduce.Job:  map 100% reduce 100%\n",
      "2024-03-01 13:23:15,273 INFO mapreduce.Job: Job job_1709297179622_0001 completed successfully\n",
      "2024-03-01 13:23:15,344 INFO mapreduce.Job: Counters: 54\n",
      "\tFile System Counters\n",
      "\t\tFILE: Number of bytes read=7684620\n",
      "\t\tFILE: Number of bytes written=9802261\n",
      "\t\tFILE: Number of read operations=0\n",
      "\t\tFILE: Number of large read operations=0\n",
      "\t\tFILE: Number of write operations=0\n",
      "\t\tHDFS: Number of bytes read=211317214\n",
      "\t\tHDFS: Number of bytes written=499048\n",
      "\t\tHDFS: Number of read operations=11\n",
      "\t\tHDFS: Number of large read operations=0\n",
      "\t\tHDFS: Number of write operations=2\n",
      "\t\tHDFS: Number of bytes read erasure-coded=0\n",
      "\tJob Counters \n",
      "\t\tLaunched map tasks=2\n",
      "\t\tLaunched reduce tasks=1\n",
      "\t\tData-local map tasks=2\n",
      "\t\tTotal time spent by all maps in occupied slots (ms)=27566\n",
      "\t\tTotal time spent by all reduces in occupied slots (ms)=5095\n",
      "\t\tTotal time spent by all map tasks (ms)=27566\n",
      "\t\tTotal time spent by all reduce tasks (ms)=5095\n",
      "\t\tTotal vcore-milliseconds taken by all map tasks=27566\n",
      "\t\tTotal vcore-milliseconds taken by all reduce tasks=5095\n",
      "\t\tTotal megabyte-milliseconds taken by all map tasks=28227584\n",
      "\t\tTotal megabyte-milliseconds taken by all reduce tasks=5217280\n",
      "\tMap-Reduce Framework\n",
      "\t\tMap input records=4138476\n",
      "\t\tMap output records=27982895\n",
      "\t\tMap output bytes=323244504\n",
      "\t\tMap output materialized bytes=1289264\n",
      "\t\tInput split bytes=194\n",
      "\t\tCombine input records=28488079\n",
      "\t\tCombine output records=606926\n",
      "\t\tReduce input groups=51053\n",
      "\t\tReduce shuffle bytes=1289264\n",
      "\t\tReduce input records=101742\n",
      "\t\tReduce output records=51053\n",
      "\t\tSpilled Records=708668\n",
      "\t\tShuffled Maps =2\n",
      "\t\tFailed Shuffles=0\n",
      "\t\tMerged Map outputs=2\n",
      "\t\tGC time elapsed (ms)=870\n",
      "\t\tCPU time spent (ms)=34230\n",
      "\t\tPhysical memory (bytes) snapshot=1282588672\n",
      "\t\tVirtual memory (bytes) snapshot=7715397632\n",
      "\t\tTotal committed heap usage (bytes)=1245708288\n",
      "\t\tPeak Map Physical memory (bytes)=504893440\n",
      "\t\tPeak Map Virtual memory (bytes)=2571558912\n",
      "\t\tPeak Reduce Physical memory (bytes)=277540864\n",
      "\t\tPeak Reduce Virtual memory (bytes)=2572722176\n",
      "\tShuffle Errors\n",
      "\t\tBAD_ID=0\n",
      "\t\tCONNECTION=0\n",
      "\t\tIO_ERROR=0\n",
      "\t\tWRONG_LENGTH=0\n",
      "\t\tWRONG_MAP=0\n",
      "\t\tWRONG_REDUCE=0\n",
      "\tFile Input Format Counters \n",
      "\t\tBytes Read=211317020\n",
      "\tFile Output Format Counters \n",
      "\t\tBytes Written=499048\n"
     ]
    }
   ],
   "source": [
    "!hadoop jar ../WordCount/WordCount.jar WordCount /data/purchases.txt /salida"
   ]
  },
  {
   "cell_type": "code",
   "execution_count": 13,
   "id": "ac1451ba-0a67-4613-90e0-4e7de8dcb995",
   "metadata": {},
   "outputs": [
    {
     "name": "stdout",
     "output_type": "stream",
     "text": [
      "Found 2 items\n",
      "-rw-r--r--   4 jupyter supergroup          0 2024-03-01 13:23 /salida/_SUCCESS\n",
      "-rw-r--r--   4 jupyter supergroup     499048 2024-03-01 13:23 /salida/part-r-00000\n"
     ]
    }
   ],
   "source": [
    "!hadoop fs -ls /salida/"
   ]
  },
  {
   "cell_type": "code",
   "execution_count": 14,
   "id": "473a58dc-a4ed-4e3e-9a18-9b98068fb623",
   "metadata": {},
   "outputs": [],
   "source": [
    "!hadoop fs -get /salida/part-r-00000 salida"
   ]
  },
  {
   "cell_type": "code",
   "execution_count": 15,
   "id": "c0150f58-3cb5-4724-843e-fff6407aeb43",
   "metadata": {},
   "outputs": [
    {
     "name": "stdout",
     "output_type": "stream",
     "text": [
      "0\t86\n",
      "0.01\t78\n",
      "0.02\t83\n",
      "0.03\t80\n",
      "0.04\t89\n",
      "0.05\t82\n",
      "0.06\t81\n",
      "0.07\t70\n",
      "0.08\t85\n",
      "0.09\t84\n"
     ]
    }
   ],
   "source": [
    "!head salida"
   ]
  },
  {
   "cell_type": "code",
   "execution_count": 16,
   "id": "09826954-82dc-401e-ad36-a889123e77ca",
   "metadata": {},
   "outputs": [
    {
     "name": "stdout",
     "output_type": "stream",
     "text": [
      "Visa\t827221\n",
      "Vista\t40080\n",
      "Washington\t40503\n",
      "Wayne\t40439\n",
      "Wichita\t40422\n",
      "Winston–Salem\t40208\n",
      "Women's\t230050\n",
      "Worth\t40336\n",
      "York\t40364\n",
      "and\t229667\n"
     ]
    }
   ],
   "source": [
    "!tail salida"
   ]
  }
 ],
 "metadata": {
  "kernelspec": {
   "display_name": "Python 3 (ipykernel)",
   "language": "python",
   "name": "python3"
  },
  "language_info": {
   "codemirror_mode": {
    "name": "ipython",
    "version": 3
   },
   "file_extension": ".py",
   "mimetype": "text/x-python",
   "name": "python",
   "nbconvert_exporter": "python",
   "pygments_lexer": "ipython3",
   "version": "3.11.0rc1"
  }
 },
 "nbformat": 4,
 "nbformat_minor": 5
}
