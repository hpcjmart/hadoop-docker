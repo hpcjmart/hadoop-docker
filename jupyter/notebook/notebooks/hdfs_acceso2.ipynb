{
 "cells": [
  {
   "cell_type": "code",
   "execution_count": null,
   "id": "b42e98dc-3a23-49dd-bfc5-4b183038ae7a",
   "metadata": {},
   "outputs": [],
   "source": [
    "!pip install pyhdfs\n",
    "!pip install pyarrow\n",
    "!pip install hdfs"
   ]
  },
  {
   "cell_type": "code",
   "execution_count": null,
   "id": "3249f31f-a8dc-4d6f-a35f-e9773e8cf105",
   "metadata": {},
   "outputs": [],
   "source": [
    "import pandas as pd"
   ]
  },
  {
   "cell_type": "code",
   "execution_count": null,
   "id": "4f9edc34-bcea-46af-a815-10b35969d41c",
   "metadata": {},
   "outputs": [],
   "source": [
    "import numpy as np"
   ]
  },
  {
   "cell_type": "code",
   "execution_count": null,
   "id": "1e56ae25-5167-440f-bf68-7ddde4bf504b",
   "metadata": {},
   "outputs": [],
   "source": [
    "from hdfs import InsecureClient"
   ]
  },
  {
   "cell_type": "code",
   "execution_count": null,
   "id": "eb37fcbf-5813-4ecc-9b09-076312ed4654",
   "metadata": {},
   "outputs": [],
   "source": [
    "web_hdfs_interface = InsecureClient('http://master:9870')"
   ]
  },
  {
   "cell_type": "code",
   "execution_count": null,
   "id": "4d5f0abf-a296-4bc9-950c-83afc2e3c5b2",
   "metadata": {},
   "outputs": [],
   "source": [
    "import pandas as pd"
   ]
  },
  {
   "cell_type": "code",
   "execution_count": null,
   "id": "84d59494-cfb6-448d-a5d8-c64e5c114a67",
   "metadata": {},
   "outputs": [],
   "source": [
    "!hadoop fs -ls /data"
   ]
  },
  {
   "cell_type": "code",
   "execution_count": null,
   "id": "91703463-b695-4612-817f-7b39f70647e8",
   "metadata": {},
   "outputs": [],
   "source": [
    "web_hdfs_interface.upload(\"/data/\",\"../data/1000-CC-Records.csv\")"
   ]
  },
  {
   "cell_type": "code",
   "execution_count": null,
   "id": "42d380e7-24fa-481c-8fe1-2aea7c22c93e",
   "metadata": {},
   "outputs": [],
   "source": [
    "with web_hdfs_interface.read('/data/1000-CC-Records.csv', encoding='cp1252') as reader:\n",
    "  df = pd.read_csv(reader,index_col=0)"
   ]
  },
  {
   "cell_type": "code",
   "execution_count": null,
   "id": "ff1156a6-edcc-42a5-9a10-d883eb7b694b",
   "metadata": {},
   "outputs": [],
   "source": [
    "df.head()"
   ]
  },
  {
   "cell_type": "code",
   "execution_count": null,
   "id": "089ac2cd-f294-48ee-8d79-d19d254ac0b1",
   "metadata": {},
   "outputs": [],
   "source": [
    "df.tail()"
   ]
  },
  {
   "cell_type": "code",
   "execution_count": null,
   "id": "d9e8bd6b-3f4b-4dd9-bbb5-662f2e47b901",
   "metadata": {},
   "outputs": [],
   "source": [
    "df"
   ]
  },
  {
   "cell_type": "code",
   "execution_count": null,
   "id": "c6102ba3-aa07-40bd-b332-a289154aa6a8",
   "metadata": {},
   "outputs": [],
   "source": [
    "df.dtypes"
   ]
  },
  {
   "cell_type": "code",
   "execution_count": null,
   "id": "224c6b1e-581f-4a0f-a10d-c40d38a9b40d",
   "metadata": {},
   "outputs": [],
   "source": [
    "web_hdfs_interface.upload(\"/data/\",\"../data/500000-CC-Records.csv\")"
   ]
  },
  {
   "cell_type": "code",
   "execution_count": null,
   "id": "b8db6e02-39d2-4e73-a0c6-0bde0b9aa0ce",
   "metadata": {},
   "outputs": [],
   "source": [
    "web_hdfs_interface.upload(\"/data/\",\"../data/5m-CC-Records.csv\")"
   ]
  }
 ],
 "metadata": {
  "kernelspec": {
   "display_name": "Python 3 (ipykernel)",
   "language": "python",
   "name": "python3"
  },
  "language_info": {
   "codemirror_mode": {
    "name": "ipython",
    "version": 3
   },
   "file_extension": ".py",
   "mimetype": "text/x-python",
   "name": "python",
   "nbconvert_exporter": "python",
   "pygments_lexer": "ipython3",
   "version": "3.11.0rc1"
  }
 },
 "nbformat": 4,
 "nbformat_minor": 5
}
