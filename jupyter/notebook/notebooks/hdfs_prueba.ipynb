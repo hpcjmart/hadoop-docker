{
 "cells": [
  {
   "cell_type": "code",
   "execution_count": null,
   "id": "cdf8d511-bd4e-40de-aefa-2d6f61004172",
   "metadata": {},
   "outputs": [],
   "source": [
    "pip install pyhdfs"
   ]
  },
  {
   "cell_type": "code",
   "execution_count": 1,
   "id": "5072407c-2092-4562-909f-b36baab1764b",
   "metadata": {},
   "outputs": [],
   "source": [
    "import pyhdfs"
   ]
  },
  {
   "cell_type": "code",
   "execution_count": 2,
   "id": "fcb4b1fa-ac78-4f33-b40d-4ada880bf6e7",
   "metadata": {},
   "outputs": [],
   "source": [
    "hdfs = pyhdfs.HdfsClient(hosts=\"master:9870\")"
   ]
  },
  {
   "cell_type": "code",
   "execution_count": 3,
   "id": "ddc9110c-2753-40d9-9eaa-7cb0418ef7c0",
   "metadata": {},
   "outputs": [
    {
     "name": "stdout",
     "output_type": "stream",
     "text": [
      "/user/jupyter\n",
      "master:9870\n",
      "['tmp', 'var']\n"
     ]
    }
   ],
   "source": [
    "userhomedir = hdfs.get_home_directory()\n",
    "print(userhomedir)\n",
    "availablenode = hdfs.get_active_namenode()\n",
    "print(availablenode)\n",
    "print(hdfs.listdir(\"/\"))"
   ]
  },
  {
   "cell_type": "code",
   "execution_count": 4,
   "id": "ae3cc986-e9cc-42c7-bc2d-f863b7c473b7",
   "metadata": {},
   "outputs": [
    {
     "name": "stdout",
     "output_type": "stream",
     "text": [
      "[]\n"
     ]
    }
   ],
   "source": [
    "hdfs.mkdirs('/data')\n",
    "print(hdfs.list_status('/data'))"
   ]
  },
  {
   "cell_type": "code",
   "execution_count": 5,
   "id": "dfbb51cc-55a1-44a7-816a-ecb108b0f2d2",
   "metadata": {},
   "outputs": [
    {
     "name": "stdout",
     "output_type": "stream",
     "text": [
      "['data', 'tmp', 'var']\n"
     ]
    }
   ],
   "source": [
    "print(hdfs.listdir(\"/\"))"
   ]
  },
  {
   "cell_type": "code",
   "execution_count": 6,
   "id": "94781461-25c8-4370-a901-b278fc774d03",
   "metadata": {},
   "outputs": [
    {
     "name": "stdout",
     "output_type": "stream",
     "text": [
      "[]\n"
     ]
    }
   ],
   "source": [
    "print(hdfs.listdir(\"/data\"))"
   ]
  },
  {
   "cell_type": "code",
   "execution_count": null,
   "id": "efca047e-2e4a-4f6a-9a3c-4b22765da0c9",
   "metadata": {},
   "outputs": [],
   "source": [
    "!ls"
   ]
  },
  {
   "cell_type": "code",
   "execution_count": 7,
   "id": "04af09e0-bd46-42f0-9572-9bd41c76952b",
   "metadata": {},
   "outputs": [],
   "source": [
    "hdfs.copy_from_local(\"./5m-CC-Records.csv\",\"/data/5m-CC-Records.csv\")"
   ]
  },
  {
   "cell_type": "code",
   "execution_count": null,
   "id": "5bcc3780-31ee-44f0-9ed5-0ee75133dfd5",
   "metadata": {},
   "outputs": [],
   "source": []
  }
 ],
 "metadata": {
  "kernelspec": {
   "display_name": "Python 3 (ipykernel)",
   "language": "python",
   "name": "python3"
  },
  "language_info": {
   "codemirror_mode": {
    "name": "ipython",
    "version": 3
   },
   "file_extension": ".py",
   "mimetype": "text/x-python",
   "name": "python",
   "nbconvert_exporter": "python",
   "pygments_lexer": "ipython3",
   "version": "3.11.0rc1"
  }
 },
 "nbformat": 4,
 "nbformat_minor": 5
}
