{
 "cells": [
  {
   "cell_type": "code",
   "execution_count": null,
   "id": "66bff0ce-5be9-4459-accb-6584a4f22d0a",
   "metadata": {},
   "outputs": [],
   "source": [
    "from hdfs import InsecureClient"
   ]
  },
  {
   "cell_type": "code",
   "execution_count": null,
   "id": "60ab2bb4-9878-479a-9076-9e9723e8b1e6",
   "metadata": {},
   "outputs": [],
   "source": [
    "web_hdfs_interface = InsecureClient('http://master:9870')"
   ]
  },
  {
   "cell_type": "code",
   "execution_count": null,
   "id": "1fb13332-d3e2-4e40-b3a3-c77b511a3b9d",
   "metadata": {},
   "outputs": [],
   "source": [
    "web_hdfs_interface.upload(\"/data/shootouts.csv\",\"../data/shootouts.csv\")"
   ]
  },
  {
   "cell_type": "code",
   "execution_count": null,
   "id": "d386e05a-ac17-4cbf-99a1-38c39e5cbdbf",
   "metadata": {},
   "outputs": [],
   "source": [
    "web_hdfs_interface.upload(\"/data/results.csv\",\"../data/results.csv\")"
   ]
  },
  {
   "cell_type": "code",
   "execution_count": null,
   "id": "d7509160-796e-4da7-b1c4-471c10a9b0b9",
   "metadata": {},
   "outputs": [],
   "source": [
    "web_hdfs_interface.upload(\"/data/goalscorers.csv\",\"../data/goalscorers.csv\")"
   ]
  },
  {
   "cell_type": "code",
   "execution_count": null,
   "id": "e431f85e-9dbc-4f8a-aedd-4b192093fec8",
   "metadata": {},
   "outputs": [],
   "source": [
    "web_hdfs_interface.list('/data')"
   ]
  },
  {
   "cell_type": "code",
   "execution_count": null,
   "id": "5b675fa3-93af-4755-80d3-ecd89195857c",
   "metadata": {},
   "outputs": [],
   "source": [
    "import pandas as pd\n",
    "import matplotlib.pyplot as plt"
   ]
  },
  {
   "cell_type": "code",
   "execution_count": null,
   "id": "dfb8a30c-364e-4712-abf9-e8d4d2d66c5f",
   "metadata": {},
   "outputs": [],
   "source": [
    "with web_hdfs_interface.read('/data/results.csv') as reader:\n",
    "  results = pd.read_csv(reader,parse_dates=['date'])"
   ]
  },
  {
   "cell_type": "code",
   "execution_count": null,
   "id": "35c0b030-ba35-49eb-90e4-775d67c79a9c",
   "metadata": {},
   "outputs": [],
   "source": [
    "results.head()"
   ]
  },
  {
   "cell_type": "code",
   "execution_count": null,
   "id": "cb04e2ed-5336-4570-87d2-8d89779c4c44",
   "metadata": {},
   "outputs": [],
   "source": [
    "results.shape"
   ]
  },
  {
   "cell_type": "code",
   "execution_count": null,
   "id": "634ccc9f-d3de-4ca0-8592-0778a37f5d08",
   "metadata": {},
   "outputs": [],
   "source": [
    "results.dtypes"
   ]
  },
  {
   "cell_type": "code",
   "execution_count": null,
   "id": "a87fc1fb-9f26-4ed3-b102-cfd6de009453",
   "metadata": {},
   "outputs": [],
   "source": [
    "results.tournament.value_counts()"
   ]
  },
  {
   "cell_type": "code",
   "execution_count": null,
   "id": "12436f3c-3a52-4b53-97a5-a4c289619018",
   "metadata": {},
   "outputs": [],
   "source": [
    "results = results.loc[results['tournament']!='Friendly']"
   ]
  },
  {
   "cell_type": "code",
   "execution_count": null,
   "id": "065fa1dc-084c-467b-b655-4a25132a8b91",
   "metadata": {},
   "outputs": [],
   "source": [
    "results"
   ]
  },
  {
   "cell_type": "code",
   "execution_count": null,
   "id": "93b8e471-b044-4ce0-b758-550bcd80b4df",
   "metadata": {},
   "outputs": [],
   "source": [
    "results = results.loc[results['date'].dt.year > 1920]\n",
    "results = results.reset_index()\n",
    "del results['index']\n",
    "results"
   ]
  },
  {
   "cell_type": "code",
   "execution_count": null,
   "id": "6ffb742e-430f-41a6-b9a1-58beb79c70d3",
   "metadata": {},
   "outputs": [],
   "source": [
    "results = results.loc[results['home_score']!= results['away_score']]\n",
    "results = results.reset_index()\n",
    "del results['index']\n",
    "results"
   ]
  },
  {
   "cell_type": "code",
   "execution_count": null,
   "id": "9cbb36e7-0fd3-481e-bb45-c440008ff456",
   "metadata": {},
   "outputs": [],
   "source": [
    "temp1 = results.loc[:,['home_team']]\n",
    "temp1.rename(columns={'home_team':'label'},inplace=True)\n",
    "temp2 = results.loc[:,['away_team']]\n",
    "temp2.rename(columns={'away_team':'label'},inplace=True)"
   ]
  },
  {
   "cell_type": "code",
   "execution_count": null,
   "id": "872648d4-ce3f-4abb-ba88-33b039a77991",
   "metadata": {},
   "outputs": [],
   "source": [
    "temp1"
   ]
  },
  {
   "cell_type": "code",
   "execution_count": null,
   "id": "0e17c98b-20f0-4155-820b-777fce1d8824",
   "metadata": {},
   "outputs": [],
   "source": [
    "temp2"
   ]
  },
  {
   "cell_type": "code",
   "execution_count": null,
   "id": "aefc7dc1-2304-43dd-9b9b-6c9df4d7352c",
   "metadata": {},
   "outputs": [],
   "source": [
    "countries = pd.concat([temp1,temp2])"
   ]
  },
  {
   "cell_type": "code",
   "execution_count": null,
   "id": "af2a706a-9a1a-437a-afbc-fcfcb26fc50e",
   "metadata": {},
   "outputs": [],
   "source": [
    "countries"
   ]
  },
  {
   "cell_type": "code",
   "execution_count": null,
   "id": "1824c321-4f41-40de-8c8b-81a3fd7feb80",
   "metadata": {},
   "outputs": [],
   "source": [
    "countries = countries['label'].groupby(countries['label']).agg(['count'])"
   ]
  },
  {
   "cell_type": "code",
   "execution_count": null,
   "id": "6124383a-e853-4ee2-a6b3-9df11308ed33",
   "metadata": {},
   "outputs": [],
   "source": [
    "countries"
   ]
  },
  {
   "cell_type": "code",
   "execution_count": null,
   "id": "6454664b-7cf1-4ee5-8c41-34d9a83ff087",
   "metadata": {},
   "outputs": [],
   "source": [
    "countries.reset_index(inplace=True)\n",
    "countries = countries.loc[countries['count']>=400]"
   ]
  },
  {
   "cell_type": "code",
   "execution_count": null,
   "id": "6fce0b0b-6a21-4bbe-b855-42d901e9dceb",
   "metadata": {},
   "outputs": [],
   "source": [
    "countries"
   ]
  },
  {
   "cell_type": "code",
   "execution_count": null,
   "id": "402b3798-a976-40d6-8938-5ab51e7b093c",
   "metadata": {},
   "outputs": [],
   "source": [
    "countries.reset_index(inplace=True)"
   ]
  },
  {
   "cell_type": "code",
   "execution_count": null,
   "id": "65321ff3-c4a6-4fb8-b1ef-909f5a5ab1a0",
   "metadata": {},
   "outputs": [],
   "source": [
    "countries"
   ]
  },
  {
   "cell_type": "code",
   "execution_count": null,
   "id": "8e4b6982-e5b3-4911-8878-222d4a94a647",
   "metadata": {},
   "outputs": [],
   "source": [
    "del countries['index']"
   ]
  },
  {
   "cell_type": "code",
   "execution_count": null,
   "id": "518f0d70-a732-41e3-955a-42f49011d3a8",
   "metadata": {},
   "outputs": [],
   "source": [
    "countries"
   ]
  },
  {
   "cell_type": "code",
   "execution_count": null,
   "id": "b230dd7f-a231-4cfe-a361-56cbf7180122",
   "metadata": {},
   "outputs": [],
   "source": [
    "countries.reset_index(inplace=True)"
   ]
  },
  {
   "cell_type": "code",
   "execution_count": null,
   "id": "81029588-f691-4ac7-a460-f132be2050c9",
   "metadata": {},
   "outputs": [],
   "source": [
    "countries"
   ]
  },
  {
   "cell_type": "code",
   "execution_count": null,
   "id": "b6e7b99d-8852-449b-b451-1f34cb0089b6",
   "metadata": {},
   "outputs": [],
   "source": [
    "del countries['index']"
   ]
  },
  {
   "cell_type": "code",
   "execution_count": null,
   "id": "e61fa4e1-e879-4d33-81c8-c6aa5bb69167",
   "metadata": {},
   "outputs": [],
   "source": [
    "countries.columns"
   ]
  },
  {
   "cell_type": "code",
   "execution_count": null,
   "id": "e704ecb5-66ae-4c80-9c67-8339e18739e5",
   "metadata": {},
   "outputs": [],
   "source": [
    "countries.plot(kind = 'bar',x = 'label', y = 'count')"
   ]
  },
  {
   "cell_type": "code",
   "execution_count": null,
   "id": "b3c323a4-446a-4ed9-831b-931c24dc7bcc",
   "metadata": {},
   "outputs": [],
   "source": [
    "countries=countries.sort_values('count')"
   ]
  },
  {
   "cell_type": "code",
   "execution_count": null,
   "id": "b359f9d5-f93b-44f0-923b-10998857460f",
   "metadata": {},
   "outputs": [],
   "source": [
    "countries"
   ]
  },
  {
   "cell_type": "code",
   "execution_count": null,
   "id": "c4692554-e653-44e0-a29e-af39ae543e57",
   "metadata": {},
   "outputs": [],
   "source": [
    "countries.plot(kind = 'bar',x = 'label', y = 'count')"
   ]
  }
 ],
 "metadata": {
  "kernelspec": {
   "display_name": "Python 3 (ipykernel)",
   "language": "python",
   "name": "python3"
  },
  "language_info": {
   "codemirror_mode": {
    "name": "ipython",
    "version": 3
   },
   "file_extension": ".py",
   "mimetype": "text/x-python",
   "name": "python",
   "nbconvert_exporter": "python",
   "pygments_lexer": "ipython3",
   "version": "3.11.0rc1"
  }
 },
 "nbformat": 4,
 "nbformat_minor": 5
}
